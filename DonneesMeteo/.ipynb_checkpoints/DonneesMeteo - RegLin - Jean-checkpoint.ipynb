{
 "cells": [
  {
   "cell_type": "code",
   "execution_count": 66,
   "metadata": {
    "collapsed": false
   },
   "outputs": [],
   "source": [
    "import math\n",
    "import datetime\n",
    "import pandas as pd\n",
    "import numpy as np\n",
    "import sklearn.preprocessing as pp #pour les scaling\n",
    "from sklearn.cross_validation import train_test_split"
   ]
  },
  {
   "cell_type": "code",
   "execution_count": 67,
   "metadata": {
    "collapsed": false
   },
   "outputs": [],
   "source": [
    "df = pd.read_csv(\"DonneesMeteo.txt\",delim_whitespace=True, low_memory=False, skiprows=1)\n",
    "n=len(df)"
   ]
  },
  {
   "cell_type": "code",
   "execution_count": null,
   "metadata": {
    "collapsed": false
   },
   "outputs": [],
   "source": []
  },
  {
   "cell_type": "code",
   "execution_count": 83,
   "metadata": {
    "collapsed": false
   },
   "outputs": [],
   "source": [
    "#Version arrondie à la minute de la ligne du dessous : num = pd.to_datetime(pd.Series.round(df['hh(UTC)']*3600)*1000000000)\n",
    "num = pd.to_datetime(df['hh(UTC)']*3600*1000000000)\n",
    "indext = pd.DatetimeIndex(num)\n",
    "indexd = pd.DatetimeIndex(pd.to_datetime(df['Date'], format=\"%Y%m%d\"))\n",
    "\n",
    "df['Day'] = indexd.dayofyear"
   ]
  },
  {
   "cell_type": "code",
   "execution_count": 69,
   "metadata": {
    "collapsed": false
   },
   "outputs": [
    {
     "data": {
      "text/plain": [
       "\"ts = []\\ni=0\\nwhile (i<len(df)) :\\n    ts.append(datetime.datetime.combine(datetime.date(indexd[i].year, indexd[i].month, indexd[i].day), datetime.time(indext[i].hour, indext[i].minute, indext[i].second)))\\n    i = i + 1\\ndf['TimeStamp'] = ts\""
      ]
     },
     "execution_count": 69,
     "metadata": {},
     "output_type": "execute_result"
    }
   ],
   "source": [
    "#Faire une timestamp\n",
    "'''ts = []\n",
    "i=0\n",
    "while (i<len(df)) :\n",
    "    ts.append(datetime.datetime.combine(datetime.date(indexd[i].year, indexd[i].month, indexd[i].day), datetime.time(indext[i].hour, indext[i].minute, indext[i].second)))\n",
    "    i = i + 1\n",
    "df['TimeStamp'] = ts'''"
   ]
  },
  {
   "cell_type": "markdown",
   "metadata": {},
   "source": [
    "On va à présent se concentrer sur la prédiction de :\n",
    "    - puissance\n",
    "Selon\n",
    "    - T\n",
    "    - vent\n",
    "    - skycover\n",
    "    - precipitation"
   ]
  },
  {
   "cell_type": "code",
   "execution_count": 70,
   "metadata": {
    "collapsed": false
   },
   "outputs": [
    {
     "data": {
      "text/plain": [
       "['Date',\n",
       " 'hh(UTC)',\n",
       " 'P1(W)',\n",
       " 'Tp1(C)',\n",
       " 'P2(W)',\n",
       " 'Tp2(C)',\n",
       " 'IrrPOA(W/m2)',\n",
       " 'Gz2(W/m2)',\n",
       " 'Drz2(W/m2)',\n",
       " 'Dfz2(W/m2)',\n",
       " 'IRz2(W/m2)',\n",
       " 'T(C)',\n",
       " 'WS(m/s)',\n",
       " 'WD(deg)',\n",
       " 'mpGz1(W/m2)',\n",
       " 'IRz1dn(W/m2)',\n",
       " 'IRz1up(W/m2)',\n",
       " 'mpT(C)',\n",
       " 'mpWS(m/s)',\n",
       " 'mpWD(deg)',\n",
       " 'SZA(deg)',\n",
       " 'SAA(deg)',\n",
       " 'Day',\n",
       " 'DayPart']"
      ]
     },
     "execution_count": 70,
     "metadata": {},
     "output_type": "execute_result"
    }
   ],
   "source": [
    "\n",
    "df.columns.values.tolist()"
   ]
  },
  {
   "cell_type": "markdown",
   "metadata": {
    "collapsed": false
   },
   "source": [
    "# LinearModel"
   ]
  },
  {
   "cell_type": "code",
   "execution_count": 76,
   "metadata": {
    "collapsed": false
   },
   "outputs": [],
   "source": [
    "#Paramètres\n",
    "pTrain = 0.6\n",
    "pTest = 0.4\n",
    "\n",
    "colsX = ['Day', 'hh(UTC)',]\n",
    "#colsX = [\"DayPart\", \"T(C)\", ]\n",
    "colsY = [\"P1(W)\", \"P2(W)\"]\n",
    "cols = colsX + colsY\n",
    "#print(cols)"
   ]
  },
  {
   "cell_type": "code",
   "execution_count": 79,
   "metadata": {
    "collapsed": false
   },
   "outputs": [
    {
     "data": {
      "text/plain": [
       "array([[ 60.    ,   6.0167],\n",
       "       [ 60.    ,   6.0333],\n",
       "       [ 60.    ,   6.05  ],\n",
       "       ..., \n",
       "       [ 89.    ,  12.4833],\n",
       "       [ 89.    ,  12.5167],\n",
       "       [ 89.    ,  12.5333]])"
      ]
     },
     "execution_count": 79,
     "metadata": {},
     "output_type": "execute_result"
    }
   ],
   "source": [
    "import matplotlib.pyplot as plt\n",
    "import numpy as np\n",
    "from sklearn import datasets, linear_model\n",
    "\n",
    "# Load the dataset\n",
    "Z = np.array(df[cols]).astype(np.float)\n",
    "\n",
    "#Remove nan and infinite values\n",
    "masknan = ~np.any(np.isnan(Z), axis=1)\n",
    "Z = Z[masknan]\n",
    "maskfin = np.any(np.isfinite(Z), axis=1)\n",
    "Z = Z[maskfin]\n",
    "#feature scaling\n",
    "#Z = pp.StandardScaler().fit_transform(Z)\n",
    "\n",
    "#Split the treated data between X and y\n",
    "deb = 0\n",
    "sep = len(colsX)#separteur entre les X et les Y\n",
    "fin = sep+len(colsY)\n",
    "X=Z[:,deb:sep]\n",
    "y=Z[:,sep:fin]\n",
    "\n",
    "# Split the data into training/testing sets\n",
    "X = np.reshape(X,(len(X),len(colsX)))#pour \"transposer\"\n",
    "X_train, X_test, y_train, y_test = train_test_split(X,y, train_size=pTrain, test_size=pTest )\n",
    "X\n",
    "#feature scaling sur le train set !"
   ]
  },
  {
   "cell_type": "code",
   "execution_count": 82,
   "metadata": {
    "collapsed": false
   },
   "outputs": [
    {
     "ename": "ImportError",
     "evalue": "No module named 'plotter'",
     "output_type": "error",
     "traceback": [
      "\u001b[1;31m---------------------------------------------------------------------------\u001b[0m",
      "\u001b[1;31mImportError\u001b[0m                               Traceback (most recent call last)",
      "\u001b[1;32m<ipython-input-82-870d516f5f49>\u001b[0m in \u001b[0;36m<module>\u001b[1;34m()\u001b[0m\n\u001b[0;32m      1\u001b[0m \u001b[1;31m#Plotter\u001b[0m\u001b[1;33m\u001b[0m\u001b[1;33m\u001b[0m\u001b[0m\n\u001b[1;32m----> 2\u001b[1;33m \u001b[1;32mfrom\u001b[0m \u001b[0mplotter\u001b[0m \u001b[1;32mimport\u001b[0m \u001b[0mplotterIterations\u001b[0m\u001b[1;33m\u001b[0m\u001b[0m\n\u001b[0m\u001b[0;32m      3\u001b[0m \u001b[1;32mimport\u001b[0m \u001b[0mmatplotlib\u001b[0m\u001b[1;33m.\u001b[0m\u001b[0mcm\u001b[0m \u001b[1;32mas\u001b[0m \u001b[0mcm\u001b[0m\u001b[1;33m\u001b[0m\u001b[0m\n\u001b[0;32m      4\u001b[0m \u001b[1;31m#Paramètres\u001b[0m\u001b[1;33m\u001b[0m\u001b[1;33m\u001b[0m\u001b[0m\n\u001b[0;32m      5\u001b[0m \u001b[0mnX\u001b[0m \u001b[1;33m=\u001b[0m \u001b[1;36m1\u001b[0m\u001b[1;33m\u001b[0m\u001b[0m\n",
      "\u001b[1;31mImportError\u001b[0m: No module named 'plotter'"
     ]
    }
   ],
   "source": [
    "#Plotter \n",
    "from plotter import plotterIterations\n",
    "import matplotlib.cm as cm\n",
    "#Paramètres\n",
    "nX = 1\n",
    "ny = 1\n",
    "nIt = 0\n",
    "\n",
    "#On calcule la théorie\n",
    "#y_theo = regr.predict(X)\n",
    "\n",
    "#On se ramène à des journées\n",
    "EltIteration = X[:,nIt]\n",
    "Iterations = np.unique(EltIteration)\n",
    "\n",
    "#Gérer plusieurs couleurs\n",
    "colors = cm.rainbow(np.linspace(0, 1, len(Iterations)))\n",
    "\n",
    "for k,c in zip(Iterations,colors)  :\n",
    "    #On prend que le jour\n",
    "    condition = EltIteration == k \n",
    "    print(k)\n",
    "    xPlot = np.extract(condition, X[:,nX])\n",
    "    yPlot = np.extract(condition, y[:,ny])\n",
    "    plt.plot(xPlot, yPlot, color=c,linewidth=1)\n",
    "\n",
    "#plt.plot(X_test, regr.predict(X_test), color='blue',linewidth=3)\n",
    "plt.xticks(())\n",
    "plt.yticks(())\n",
    "\n",
    "plt.xlabel(colsX[nX])\n",
    "plt.ylabel(colsY[ny])\n",
    "plt.title('Selon '+colsX[nIt])\n",
    "\n",
    "plt.show()"
   ]
  },
  {
   "cell_type": "code",
   "execution_count": null,
   "metadata": {
    "collapsed": false
   },
   "outputs": [],
   "source": []
  },
  {
   "cell_type": "code",
   "execution_count": 45,
   "metadata": {
    "collapsed": false
   },
   "outputs": [
    {
     "name": "stdout",
     "output_type": "stream",
     "text": [
      "Coefficients: \n",
      " [[ -2.60208521e-17   2.19249965e-13   5.00000000e-01  -1.37390099e-15\n",
      "    1.52655666e-16   1.65839564e-15   1.94289029e-16  -5.41233725e-16\n",
      "    5.96744876e-16   2.49800181e-16   3.19189120e-16  -2.49800181e-16\n",
      "    1.87350135e-16   4.16333634e-17   3.05311332e-16  -1.97758476e-16\n",
      "    4.37150316e-16   2.01227923e-16  -1.38777878e-16  -6.93889390e-18\n",
      "    6.24500451e-17   3.03576608e-16  -2.20212737e-13   5.00000000e-01]\n",
      " [ -2.42861287e-16  -5.29064639e-14   6.93889390e-17   3.05311332e-16\n",
      "    1.00000000e+00   1.73472348e-16  -1.52655666e-16  -5.27355937e-16\n",
      "    4.16333634e-16   1.66533454e-16   1.56125113e-16  -1.59594560e-16\n",
      "    2.08166817e-17   6.24500451e-17  -2.22044605e-16   7.45931095e-17\n",
      "    2.77555756e-17   3.60822483e-16   9.71445147e-17   1.59594560e-16\n",
      "    1.73472348e-16  -4.16333634e-17   5.26835520e-14   5.55111512e-17]]\n",
      "Residual sum of squares: 0.00\n",
      "Variance score: 1.00\n"
     ]
    }
   ],
   "source": [
    "# Create linear regression object\n",
    "regr = linear_model.LinearRegression()\n",
    "\n",
    "# Train the model using the training sets\n",
    "regr.fit(X_train, y_train)\n",
    "\n",
    "# The coefficients\n",
    "print('Coefficients: \\n', regr.coef_)\n",
    "# The mean square error\n",
    "print(\"Residual sum of squares: %.2f\"\n",
    "      % np.mean((regr.predict(X_test) - y_test) ** 2))\n",
    "# Explained variance score: 1 is perfect prediction\n",
    "print('Variance score: %.2f' % regr.score(X_test, y_test))"
   ]
  },
  {
   "cell_type": "code",
   "execution_count": 46,
   "metadata": {
    "collapsed": false
   },
   "outputs": [
    {
     "data": {
      "text/plain": [
       "\"plt.scatter(X_test, y_test,  color='black')\\nplt.plot(X_test, regr.predict(X_test), color='blue',\\n         linewidth=3)\\n\\nplt.xticks(())\\nplt.yticks(())\\n\\nplt.xlabel(cols[0])\\nplt.ylabel(cols[1])\\nplt.title('Tire')\\n\\nplt.show()\""
      ]
     },
     "execution_count": 46,
     "metadata": {},
     "output_type": "execute_result"
    }
   ],
   "source": [
    "# Plot outputs 2D\n",
    "'''plt.scatter(X_test, y_test,  color='black')\n",
    "plt.plot(X_test, regr.predict(X_test), color='blue',\n",
    "         linewidth=3)\n",
    "\n",
    "plt.xticks(())\n",
    "plt.yticks(())\n",
    "\n",
    "plt.xlabel(cols[0])\n",
    "plt.ylabel(cols[1])\n",
    "plt.title('Tire')\n",
    "\n",
    "plt.show()'''"
   ]
  },
  {
   "cell_type": "code",
   "execution_count": 47,
   "metadata": {
    "collapsed": false
   },
   "outputs": [
    {
     "data": {
      "text/plain": [
       "\"from mpl_toolkits.mplot3d import Axes3D\\nimport matplotlib.pyplot as plt\\n\\n#init\\nfig = plt.figure()\\nax = fig.gca(projection='3d')\\n\\n#surface\\nsurf = ax.plot_surface(X_test, y_test, 0, rstride=1, cstride=1,\\n                       linewidth=0, antialiased=False)\\n\\n#Param sup inutiles\\n#ax.set_zlim(-1.01, 1.01)\\n#ax.zaxis.set_major_locator(LinearLocator(10))\\n#ax.zaxis.set_major_formatter(FormatStrFormatter('%.02f'))\\n#fig.colorbar(surf, shrink=0.5, aspect=5)\\n\\nplt.show()\\n\""
      ]
     },
     "execution_count": 47,
     "metadata": {},
     "output_type": "execute_result"
    }
   ],
   "source": [
    "\n",
    "#Plot \n",
    "'''from mpl_toolkits.mplot3d import Axes3D\n",
    "import matplotlib.pyplot as plt\n",
    "\n",
    "#init\n",
    "fig = plt.figure()\n",
    "ax = fig.gca(projection='3d')\n",
    "\n",
    "#surface\n",
    "surf = ax.plot_surface(X_test, y_test, 0, rstride=1, cstride=1,\n",
    "                       linewidth=0, antialiased=False)\n",
    "\n",
    "#Param sup inutiles\n",
    "#ax.set_zlim(-1.01, 1.01)\n",
    "#ax.zaxis.set_major_locator(LinearLocator(10))\n",
    "#ax.zaxis.set_major_formatter(FormatStrFormatter('%.02f'))\n",
    "#fig.colorbar(surf, shrink=0.5, aspect=5)\n",
    "\n",
    "plt.show()\n",
    "'''"
   ]
  },
  {
   "cell_type": "code",
   "execution_count": 48,
   "metadata": {
    "collapsed": false
   },
   "outputs": [
    {
     "data": {
      "text/plain": [
       "4.6775583928935705e-31"
      ]
     },
     "execution_count": 48,
     "metadata": {},
     "output_type": "execute_result"
    }
   ],
   "source": [
    "#Calcul de l'erreur\n",
    "yTheo = np.dot(X,np.transpose(regr.coef_))\n",
    "s = np.shape(y)\n",
    "s = s[0]*s[1]\n",
    "err = np.square(y-yTheo).sum()/s\n",
    "err\n"
   ]
  },
  {
   "cell_type": "code",
   "execution_count": null,
   "metadata": {
    "collapsed": false
   },
   "outputs": [],
   "source": []
  },
  {
   "cell_type": "code",
   "execution_count": null,
   "metadata": {
    "collapsed": false
   },
   "outputs": [],
   "source": []
  },
  {
   "cell_type": "code",
   "execution_count": null,
   "metadata": {
    "collapsed": false
   },
   "outputs": [],
   "source": []
  },
  {
   "cell_type": "code",
   "execution_count": null,
   "metadata": {
    "collapsed": false
   },
   "outputs": [],
   "source": []
  },
  {
   "cell_type": "code",
   "execution_count": null,
   "metadata": {
    "collapsed": false
   },
   "outputs": [],
   "source": []
  },
  {
   "cell_type": "code",
   "execution_count": null,
   "metadata": {
    "collapsed": false
   },
   "outputs": [],
   "source": []
  },
  {
   "cell_type": "code",
   "execution_count": null,
   "metadata": {
    "collapsed": false
   },
   "outputs": [],
   "source": []
  },
  {
   "cell_type": "code",
   "execution_count": 52,
   "metadata": {
    "collapsed": false
   },
   "outputs": [],
   "source": []
  },
  {
   "cell_type": "code",
   "execution_count": null,
   "metadata": {
    "collapsed": true
   },
   "outputs": [],
   "source": []
  },
  {
   "cell_type": "code",
   "execution_count": null,
   "metadata": {
    "collapsed": true
   },
   "outputs": [],
   "source": [
    "# Plot outputs 2D\n",
    "import matplotlib.cm as cm\n",
    "\n",
    "def plotterIterations(X,y,nX,ny,nIt) :\n",
    "    #Paramètres\n",
    "    #nX = 14\n",
    "    #ny = 0\n",
    "    #nHour = 1\n",
    "    #nI = 0\n",
    "\n",
    "    #On calcule la théorie\n",
    "    y_theo = regr.predict(X)\n",
    "\n",
    "    #On se ramène à des journées\n",
    "    EltIteration = X[:,nIt]\n",
    "    Iterations = np.unique(EltIteration)\n",
    "\n",
    "    #Gérer plusieurs couleurs\n",
    "    colors = cm.rainbow(np.linspace(0, 1, len(Iterations)))\n",
    "\n",
    "    for k,c in zip(Iterations,colors)  :\n",
    "        #On prend que le jour\n",
    "        condition = EltIteration == k #entre 60 et 153\n",
    "        xPlot = np.extract(condition, X[:,nX])\n",
    "        yPlot = np.extract(condition, y[:,ny])\n",
    "        plt.plot(xPlot, yPlot, color=c,linewidth=2)\n",
    "\n",
    "    #plt.plot(X_test, regr.predict(X_test), color='blue',linewidth=3)\n",
    "    plt.xticks(())\n",
    "    plt.yticks(())\n",
    "\n",
    "    #plt.xlabel(colsX[nX])\n",
    "    #plt.ylabel(colsY[nY])\n",
    "    plt.title('')\n",
    "\n",
    "    plt.show()"
   ]
  },
  {
   "cell_type": "code",
   "execution_count": null,
   "metadata": {
    "collapsed": true
   },
   "outputs": [],
   "source": []
  }
 ],
 "metadata": {
  "kernelspec": {
   "display_name": "Python 3",
   "language": "python",
   "name": "python3"
  },
  "language_info": {
   "codemirror_mode": {
    "name": "ipython",
    "version": 3
   },
   "file_extension": ".py",
   "mimetype": "text/x-python",
   "name": "python",
   "nbconvert_exporter": "python",
   "pygments_lexer": "ipython3",
   "version": "3.4.3"
  }
 },
 "nbformat": 4,
 "nbformat_minor": 0
}
