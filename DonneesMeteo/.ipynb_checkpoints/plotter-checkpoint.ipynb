{
 "cells": [
  {
   "cell_type": "code",
   "execution_count": 3,
   "metadata": {
    "collapsed": false
   },
   "outputs": [],
   "source": [
    "# Plot outputs 2D\n",
    "import matplotlib.cm as cm\n",
    "\n",
    "def plotterIterations(X,y,nX,ny,nIt) :\n",
    "    #Paramètres\n",
    "    nX = 14\n",
    "    ny = 0\n",
    "    nHour = 1\n",
    "    nI = 0\n",
    "\n",
    "    #On calcule la théorie\n",
    "    y_theo = regr.predict(X_test)\n",
    "\n",
    "    #On se ramène à des journées\n",
    "    EltIteration = X_test[:,nIt]\n",
    "    Iterations = np.unique(EltIteration)\n",
    "\n",
    "    #Gérer plusieurs couleurs\n",
    "    colors = cm.rainbow(np.linspace(0, 1, len(Iterations)))\n",
    "\n",
    "\n",
    "    for k,c in zip(Iterations,colors)  :\n",
    "        #On prend que le jour\n",
    "        condition = EltIteration == k #entre 60 et 153\n",
    "        xPlot = np.extract(condition, X[:,nX])\n",
    "        yPlot = np.extract(condition, y[:,ny])\n",
    "        plt.plot(xPlot, yPlot, color=c,linewidth=2)\n",
    "\n",
    "    #plt.plot(X_test, regr.predict(X_test), color='blue',linewidth=3)\n",
    "    plt.xticks(())\n",
    "    plt.yticks(())\n",
    "\n",
    "    plt.xlabel(colsX[nX])\n",
    "    plt.ylabel(colsY[nY])\n",
    "    plt.title('')\n",
    "\n",
    "    plt.show()"
   ]
  },
  {
   "cell_type": "code",
   "execution_count": null,
   "metadata": {
    "collapsed": false
   },
   "outputs": [],
   "source": []
  },
  {
   "cell_type": "code",
   "execution_count": null,
   "metadata": {
    "collapsed": false
   },
   "outputs": [],
   "source": []
  },
  {
   "cell_type": "code",
   "execution_count": null,
   "metadata": {
    "collapsed": false
   },
   "outputs": [],
   "source": []
  },
  {
   "cell_type": "code",
   "execution_count": null,
   "metadata": {
    "collapsed": true
   },
   "outputs": [],
   "source": []
  },
  {
   "cell_type": "code",
   "execution_count": null,
   "metadata": {
    "collapsed": true
   },
   "outputs": [],
   "source": []
  },
  {
   "cell_type": "code",
   "execution_count": null,
   "metadata": {
    "collapsed": true
   },
   "outputs": [],
   "source": []
  },
  {
   "cell_type": "code",
   "execution_count": null,
   "metadata": {
    "collapsed": true
   },
   "outputs": [],
   "source": []
  }
 ],
 "metadata": {
  "kernelspec": {
   "display_name": "Python 3",
   "language": "python",
   "name": "python3"
  },
  "language_info": {
   "codemirror_mode": {
    "name": "ipython",
    "version": 3
   },
   "file_extension": ".py",
   "mimetype": "text/x-python",
   "name": "python",
   "nbconvert_exporter": "python",
   "pygments_lexer": "ipython3",
   "version": "3.4.3"
  }
 },
 "nbformat": 4,
 "nbformat_minor": 0
}
