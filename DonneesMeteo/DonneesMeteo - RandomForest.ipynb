{
 "cells": [
  {
   "cell_type": "code",
   "execution_count": 20,
   "metadata": {
    "collapsed": false
   },
   "outputs": [],
   "source": [
    "import pandas as pd\n",
    "import numpy as np"
   ]
  },
  {
   "cell_type": "code",
   "execution_count": 21,
   "metadata": {
    "collapsed": false
   },
   "outputs": [],
   "source": [
    "df = pd.read_csv(\"DonneesMeteo.txt\",delim_whitespace=True, low_memory=False, skiprows=1)"
   ]
  },
  {
   "cell_type": "code",
   "execution_count": 22,
   "metadata": {
    "collapsed": false
   },
   "outputs": [],
   "source": [
    "import datetime\n",
    "#time = temp = pd.DatetimeIndex(df1['DT_local'])\n",
    "date = pd.DatetimeIndex(pd.to_datetime(df['Date'], format=\"%Y%m%d\"))\n",
    "df['MONTH'] = date.month\n",
    "df['DAY'] = date.day\n",
    "df['YEAR'] = date.year\n",
    "df['DOY'] = date.dayofyear\n",
    "#Version arrondie à la minute de la ligne du dessous : num = pd.to_datetime(pd.Series.round(df['hh(UTC)']*3600)*1000000000)\n",
    "hh = pd.DatetimeIndex(pd.to_datetime(df['hh(UTC)']*3600*1000000000))\n",
    "df['HOUR'] = hh.hour\n",
    "df['MINUTE'] = hh.minute"
   ]
  },
  {
   "cell_type": "markdown",
   "metadata": {},
   "source": [
    "On va à présent se concentrer sur la prédiction de :\n",
    "    - puissance\n",
    "Selon\n",
    "    - T\n",
    "    - vent\n",
    "    - skycover\n",
    "    - precipitation"
   ]
  },
  {
   "cell_type": "code",
   "execution_count": 23,
   "metadata": {
    "collapsed": false
   },
   "outputs": [],
   "source": [
    "#df.columns.values.tolist()"
   ]
  },
  {
   "cell_type": "markdown",
   "metadata": {
    "collapsed": false
   },
   "source": [
    "# RandomForest"
   ]
  },
  {
   "cell_type": "code",
   "execution_count": 44,
   "metadata": {
    "collapsed": false
   },
   "outputs": [],
   "source": [
    "#Paramètres\n",
    "'''colsX = ['DAY',\n",
    "    'Date',\n",
    " 'hh(UTC)',\n",
    " 'Tp1(C)',\n",
    " 'Tp2(C)',\n",
    " 'IrrPOA(W/m2)',\n",
    " 'Gz2(W/m2)',\n",
    " 'Drz2(W/m2)',\n",
    " 'Dfz2(W/m2)',\n",
    " 'IRz2(W/m2)',\n",
    " 'T(C)',\n",
    " 'WS(m/s)',\n",
    " 'WD(deg)',\n",
    " 'mpGz1(W/m2)',\n",
    " 'IRz1dn(W/m2)',\n",
    " 'IRz1up(W/m2)',\n",
    " 'mpT(C)',\n",
    " 'mpWS(m/s)',\n",
    " 'mpWD(deg)',\n",
    " 'SZA(deg)',\n",
    " 'SAA(deg)']'''\n",
    "colsX = [\"DOY\", \"hh(UTC)\", \"IrrPOA(W/m2)\"]\n",
    "colsY = [\"P1(W)\", \"P2(W)\"]\n",
    "#print(cols)"
   ]
  },
  {
   "cell_type": "code",
   "execution_count": 45,
   "metadata": {
    "collapsed": true
   },
   "outputs": [],
   "source": [
    "import sklearn.cross_validation as cv\n",
    "import sklearn.preprocessing as pp #pour les scaling"
   ]
  },
  {
   "cell_type": "code",
   "execution_count": 46,
   "metadata": {
    "collapsed": true
   },
   "outputs": [],
   "source": [
    "def prepare(df,colsX,colsY):\n",
    "    #Split the treated data between X and y\n",
    "    Z = vireNan(df[colsX+colsY])\n",
    "    deb = 0\n",
    "    sep = len(colsX)#separteur entre les X et les Y\n",
    "    fin = sep+len(colsY)\n",
    "    X=Z[:,deb:sep]\n",
    "    y=Z[:,sep:fin]\n",
    "    return X,y\n",
    "\n",
    "import numpy as np\n",
    "def vireNan(Z) :\n",
    "    # Load the dataset\n",
    "    Z = np.array(Z).astype(np.float)\n",
    "\n",
    "    #Remove nan and infinite values\n",
    "    masknan = ~np.any(np.isnan(Z), axis=1)\n",
    "    Z = Z[masknan]\n",
    "    maskfin = np.any(np.isfinite(Z), axis=1)\n",
    "    Z = Z[maskfin]\n",
    "    return Z"
   ]
  },
  {
   "cell_type": "code",
   "execution_count": 47,
   "metadata": {
    "collapsed": false
   },
   "outputs": [],
   "source": [
    "#preparer (nan, découpe)\n",
    "X,y = prepare(df,colsX,colsY)"
   ]
  },
  {
   "cell_type": "code",
   "execution_count": 48,
   "metadata": {
    "collapsed": true
   },
   "outputs": [],
   "source": [
    "def decoupe(X,y) :\n",
    "    X_train, X_1, y_train, y_1 = cv.train_test_split(X, y, test_size=0.4, random_state=0)\n",
    "    X_cv, X_test, y_cv, y_test = cv.train_test_split(X_1, y_1, test_size=0.1, random_state=0)\n",
    "    return X_train, X_cv, X_test, y_train, y_cv, y_test"
   ]
  },
  {
   "cell_type": "code",
   "execution_count": 49,
   "metadata": {
    "collapsed": true
   },
   "outputs": [],
   "source": [
    "#Découper\n",
    "X_train, X_cv, X_test, y_train, y_cv, y_test = decoupe(X,y)"
   ]
  },
  {
   "cell_type": "code",
   "execution_count": 50,
   "metadata": {
    "collapsed": true
   },
   "outputs": [],
   "source": [
    "#variable globales\n",
    "fsX = pp.StandardScaler()\n",
    "fsy = pp.StandardScaler()\n",
    "def featureScale(X_train, X_cv, X_test, y_train, y_cv, y_test) :\n",
    "    #feature scaling inti\n",
    "    fsX.fit(X_train)\n",
    "    X_train = fsX.transform(X_train)\n",
    "    X_cv = fsX.transform(X_cv)\n",
    "    X_test = fsX.transform(X_test)\n",
    "    \n",
    "    fsy.fit(y_train)\n",
    "    y_train = fsy.transform(y_train)\n",
    "    y_cv = fsy.transform(y_cv)\n",
    "    y_test = fsy.transform(y_test)\n",
    "    \n",
    "    return X_train, X_cv, X_test, y_train, y_cv, y_test"
   ]
  },
  {
   "cell_type": "code",
   "execution_count": 51,
   "metadata": {
    "collapsed": true
   },
   "outputs": [],
   "source": [
    "#scaler\n",
    "X_train, X_cv, X_test, y_train, y_cv, y_test = featureScale(X_train, X_cv, X_test, y_train, y_cv, y_test)\n"
   ]
  },
  {
   "cell_type": "code",
   "execution_count": 42,
   "metadata": {
    "collapsed": true
   },
   "outputs": [],
   "source": [
    "from sklearn.ensemble import RandomForestRegressor\n",
    "\n",
    "def rms(Y1,Y2):\n",
    "    return np.sqrt(np.mean((Y1 - Y2)**2))\n",
    "    \n",
    "def randomforestcross(nArray, X_train, X_cv, y_train, y_cv):\n",
    "    #Conversion\n",
    "    nArray = np.array(nArray).astype(np.integer)\n",
    "    #tableau avec les valeurs d'erreur\n",
    "    RMS=np.zeros((nArray.size,2))\n",
    "    \n",
    "    i=0\n",
    "    for n in nArray:\n",
    "        y_=randomforest(n,X_train,y_train,X_cv)\n",
    "        r =rms(y_,y_cv)\n",
    "        RMS[i,0]=n\n",
    "        RMS[i,1]=r\n",
    "        i+=1\n",
    "    plt.scatter(RMS[:,0],RMS[:,1])\n",
    "    plt.show()\n",
    "    \n",
    "    return RMS\n",
    "\n",
    "def randomforest(n,X,Y,X_test):\n",
    "    clf= RandomForestRegressor(n_estimators=n)\n",
    "    clf.fit(X,Y)\n",
    "    y_=clf.predict(X_test)\n",
    "    return y_\n",
    "\n",
    "def gradientcross(X,Y):\n",
    "    X_train, X_cv, X_test, y_train, y_cv, y_test = decoupe(X,y)\n",
    "    RMS=np.zeros((250,2))\n",
    "    \n",
    "    for i in range(1,10):\n",
    "        i = i * 10 + 100\n",
    "        y_=gradient(i,X_train,y_train,X_cv)\n",
    "        r=rms(y_,y_cv)\n",
    "        RMS[i,0]=i\n",
    "        RMS[i,1]=r\n",
    "        \n",
    "    plt.scatter(RMS[:,0],RMS[:,1])\n",
    "    plt.show()\n",
    "    L = [X_train, y_train, X_test, y_test]\n",
    "    return L \n",
    "\n",
    "def gradient(n,X,Y,X_t):\n",
    "    clf= ensemble.GradientBoostingRegressor(n_estimators=n)\n",
    "    clf.fit(X,Y)\n",
    "    y_=clf.predict(X_t)\n",
    "    return y_"
   ]
  },
  {
   "cell_type": "code",
   "execution_count": 52,
   "metadata": {
    "collapsed": true
   },
   "outputs": [],
   "source": [
    "#Pour plusieurs k ?\n",
    "nArray = [1,3,10,30,100]\n",
    "#Cross sur les nArray\n",
    "RMS = randomforestcross(nArray, X_train, X_cv, y_train, y_cv)"
   ]
  },
  {
   "cell_type": "code",
   "execution_count": null,
   "metadata": {
    "collapsed": false
   },
   "outputs": [],
   "source": []
  },
  {
   "cell_type": "code",
   "execution_count": 43,
   "metadata": {
    "collapsed": false
   },
   "outputs": [
    {
     "name": "stdout",
     "output_type": "stream",
     "text": [
      "[-1.69632413 -1.57997273 -1.46362133 -1.34726993 -1.23091853 -1.11456712\n",
      " -0.99821572 -0.88186432 -0.76551292 -0.64916152 -0.53281012 -0.41645872\n",
      " -0.30010732 -0.18375591 -0.06740451  0.04894689  0.16529829  0.28164969\n",
      "  0.39800109  0.51435249  0.63070389  0.7470553   0.8634067   0.9797581\n",
      "  1.0961095   1.2124609   1.3288123   1.4451637   1.5615151   1.6778665 ]\n"
     ]
    }
   ],
   "source": [
    "plotterIterations(X_test,1,0,y_test,0)"
   ]
  },
  {
   "cell_type": "code",
   "execution_count": null,
   "metadata": {
    "collapsed": false
   },
   "outputs": [],
   "source": []
  },
  {
   "cell_type": "code",
   "execution_count": null,
   "metadata": {
    "collapsed": false
   },
   "outputs": [],
   "source": []
  },
  {
   "cell_type": "code",
   "execution_count": null,
   "metadata": {
    "collapsed": false
   },
   "outputs": [],
   "source": []
  },
  {
   "cell_type": "code",
   "execution_count": null,
   "metadata": {
    "collapsed": false
   },
   "outputs": [],
   "source": []
  },
  {
   "cell_type": "code",
   "execution_count": null,
   "metadata": {
    "collapsed": false
   },
   "outputs": [],
   "source": []
  },
  {
   "cell_type": "code",
   "execution_count": null,
   "metadata": {
    "collapsed": false
   },
   "outputs": [],
   "source": []
  },
  {
   "cell_type": "code",
   "execution_count": null,
   "metadata": {
    "collapsed": false
   },
   "outputs": [],
   "source": []
  },
  {
   "cell_type": "code",
   "execution_count": null,
   "metadata": {
    "collapsed": false
   },
   "outputs": [],
   "source": []
  },
  {
   "cell_type": "code",
   "execution_count": null,
   "metadata": {
    "collapsed": false
   },
   "outputs": [],
   "source": []
  },
  {
   "cell_type": "code",
   "execution_count": null,
   "metadata": {
    "collapsed": false
   },
   "outputs": [],
   "source": []
  },
  {
   "cell_type": "code",
   "execution_count": null,
   "metadata": {
    "collapsed": true
   },
   "outputs": [],
   "source": []
  },
  {
   "cell_type": "code",
   "execution_count": 7,
   "metadata": {
    "collapsed": true
   },
   "outputs": [],
   "source": [
    "# Plot outputs 2D\n",
    "import matplotlib.cm as cm\n",
    "\n",
    "def plotterIterations(X,nX,nIt,y,ny) :\n",
    "    #On se ramène à des journées\n",
    "    EltIteration = X[:,nIt]\n",
    "    Iterations = np.unique(EltIteration)\n",
    "    print(Iterations)\n",
    "\n",
    "    #Gérer plusieurs couleurs\n",
    "    colors = cm.rainbow(np.linspace(0, 1, len(Iterations)))\n",
    "\n",
    "    for k,c in zip(Iterations,colors)  :\n",
    "        #On prend que le jour\n",
    "        condition = EltIteration == k #entre 60 et 153\n",
    "        xPlot = np.extract(condition, X[:,nX])\n",
    "        yPlot = np.extract(condition, y[:,ny])\n",
    "        plt.scatter(xPlot,yPlot, color=c,s=2)\n",
    "        #sort\n",
    "        #print(np.concatenate(xPlot,yPlot))\n",
    "        #z = np.sort(np.concatenate(xPlot,yPlot),0)\n",
    "        #plt.plot(z[:,0], z[:,1], color=c,linewidth=2)\n",
    "        #print(k)\n",
    "        #print(xPlot)\n",
    "        #print(yPlot)\n",
    "        #print(z[:,0])\n",
    "        #print(z[:,1])\n",
    "        #break\n",
    "\n",
    "    #plt.plot(X_test, regr.predict(X_test), color='blue',linewidth=3)\n",
    "    plt.xticks(())\n",
    "    plt.yticks(())\n",
    "\n",
    "    plt.title('')\n",
    "\n",
    "    plt.show()"
   ]
  },
  {
   "cell_type": "code",
   "execution_count": 18,
   "metadata": {
    "collapsed": false
   },
   "outputs": [],
   "source": [
    "import sklearn.cross_validation as cv\n",
    "import sklearn.preprocessing as pp #pour les scaling\n",
    "from sklearn.ensemble import RandomForestRegressor\n",
    "\n",
    "def rms(Y1,Y2):\n",
    "    return np.sqrt(np.mean((Y1 - Y2)**2))\n",
    "    \n",
    "def randomforestcross(nArray, X_train, X_cv, y_train, y_cv):\n",
    "    #tableau avec les valeurs d'erreur\n",
    "    RMS=np.zeros((nArray.size,2))\n",
    "    \n",
    "    i=0\n",
    "    for n in nArray:\n",
    "        y_=randomforest(n,X_train,y_train,X_cv)\n",
    "        r =rms(y_,y_cv)\n",
    "        RMS[i,0]=n\n",
    "        RMS[i,1]=r\n",
    "        i+=1\n",
    "    plt.scatter(RMS[:,0],RMS[:,1])\n",
    "    plt.show()\n",
    "    \n",
    "    return RMS\n",
    "\n",
    "def randomforest(n,X,Y,X_test):\n",
    "    clf= RandomForestRegressor(n_estimators=n)\n",
    "    clf.fit(X,Y)\n",
    "    y_=clf.predict(X_test)\n",
    "    return y_\n",
    "\n",
    "def gradientcross(X,Y):\n",
    "    X_train, X_cv, X_test, y_train, y_cv, y_test = decoupe(X,y)\n",
    "    RMS=np.zeros((250,2))\n",
    "    \n",
    "    for i in range(1,10):\n",
    "        i = i * 10 + 100\n",
    "        y_=gradient(i,X_train,y_train,X_cv)\n",
    "        r=rms(y_,y_cv)\n",
    "        RMS[i,0]=i\n",
    "        RMS[i,1]=r\n",
    "    plt.scatter(RMS[:,0],RMS[:,1])\n",
    "    plt.show()\n",
    "    L = [X_train, y_train, X_test, y_test]\n",
    "    return L \n",
    "def gradient(n,X,Y,X_t):\n",
    "    clf= ensemble.GradientBoostingRegressor(n_estimators=n)\n",
    "    clf.fit(X,Y)\n",
    "    y_=clf.predict(X_t)\n",
    "    return y_\n",
    "\n",
    "\n",
    "def prepare(df,colsX,colsY):\n",
    "    #Split the treated data between X and y\n",
    "    Z = vireNan(df[colsX+colsY])\n",
    "    deb = 0\n",
    "    sep = len(colsX)#separteur entre les X et les Y\n",
    "    fin = sep+len(colsY)\n",
    "    X=Z[:,deb:sep]\n",
    "    y=Z[:,sep:fin]\n",
    "    return X,y\n",
    "\n",
    "import numpy as np\n",
    "def vireNan(Z) :\n",
    "    # Load the dataset\n",
    "    Z = np.array(Z).astype(np.float)\n",
    "\n",
    "    #Remove nan and infinite values\n",
    "    masknan = ~np.any(np.isnan(Z), axis=1)\n",
    "    Z = Z[masknan]\n",
    "    maskfin = np.any(np.isfinite(Z), axis=1)\n",
    "    Z = Z[maskfin]\n",
    "    return Z\n",
    "\n",
    "def decoupe(X,y) :\n",
    "    X_train, X_1, y_train, y_1 = cv.train_test_split(X, y, test_size=0.4, random_state=0)\n",
    "    X_cv, X_test, y_cv, y_test = cv.train_test_split(X_1, y_1, test_size=0.1, random_state=0)\n",
    "    return X_train, X_cv, X_test, y_train, y_cv, y_test\n",
    "\n",
    "#variable globales\n",
    "fsX = pp.StandardScaler()\n",
    "fsy = pp.StandardScaler()\n",
    "def featureScale(X_train, X_cv, X_test, y_train, y_cv, y_test) :\n",
    "    #feature scaling inti\n",
    "    fsX.fit(X_train)\n",
    "    X_train = fsX.transform(X_train)\n",
    "    X_cv = fsX.transform(X_cv)\n",
    "    X_test = fsX.transform(X_test)\n",
    "    \n",
    "    fsy.fit(y_train)\n",
    "    y_train = fsy.transform(y_train)\n",
    "    y_cv = fsy.transform(y_cv)\n",
    "    y_test = fsy.transform(y_test)\n",
    "    \n",
    "    return X_train, X_cv, X_test, y_train, y_cv, y_test\n"
   ]
  },
  {
   "cell_type": "code",
   "execution_count": null,
   "metadata": {
    "collapsed": true
   },
   "outputs": [],
   "source": []
  },
  {
   "cell_type": "code",
   "execution_count": null,
   "metadata": {
    "collapsed": true
   },
   "outputs": [],
   "source": []
  },
  {
   "cell_type": "code",
   "execution_count": null,
   "metadata": {
    "collapsed": true
   },
   "outputs": [],
   "source": []
  }
 ],
 "metadata": {
  "kernelspec": {
   "display_name": "Python 3",
   "language": "python",
   "name": "python3"
  },
  "language_info": {
   "codemirror_mode": {
    "name": "ipython",
    "version": 3
   },
   "file_extension": ".py",
   "mimetype": "text/x-python",
   "name": "python",
   "nbconvert_exporter": "python",
   "pygments_lexer": "ipython3",
   "version": "3.4.3"
  }
 },
 "nbformat": 4,
 "nbformat_minor": 0
}
