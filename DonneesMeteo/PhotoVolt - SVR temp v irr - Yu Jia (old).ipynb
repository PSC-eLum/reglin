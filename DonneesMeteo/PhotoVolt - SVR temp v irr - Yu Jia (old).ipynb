{
 "cells": [
  {
   "cell_type": "markdown",
   "metadata": {},
   "source": [
    "USE SVM with\n",
    "1) linear kernel\n",
    "2) polynomial kernel\n",
    "3) RBF kernel\n",
    "\n",
    "Factors to choose for prediction: \n",
    "(possible: Sky cover, relative humidity, precipitation, temperature, dew point, wind speed)\n",
    "\n",
    "Training set:\n",
    "CV:\n",
    "Test set: \n",
    "\n",
    "Short term weather forecasts for how many hours into the future?\n",
    "\n",
    "Use PCA to improve and reduce redundant parameters // examine correlation between variables to begin with and choose that which isn't related"
   ]
  },
  {
   "cell_type": "code",
   "execution_count": 1,
   "metadata": {
    "collapsed": true
   },
   "outputs": [],
   "source": [
    "# IMPORT MODULES\n",
    "\n",
    "%matplotlib inline\n",
    "\n",
    "import datetime\n",
    "import time\n",
    "import numpy as np\n",
    "from sklearn.svm import SVR\n",
    "import matplotlib.pyplot as plt\n",
    "import matplotlib.dates as dts\n",
    "import calendar\n",
    "\n",
    "import pandas as pd"
   ]
  },
  {
   "cell_type": "code",
   "execution_count": 2,
   "metadata": {
    "collapsed": false
   },
   "outputs": [],
   "source": [
    "# READ DATA\n",
    "data = pd.read_csv(\"DonneesMeteo.txt\", sep=\" \", header=1)\n",
    "data[\"Date\"] = pd.to_datetime(data[\"Date\"], format=\"%Y%m%d\")\n",
    "#data[\"hh(UTC)\"] = pd.to_datetime(data[\"hh(UTC)\"], format=\"%H.\")"
   ]
  },
  {
   "cell_type": "code",
   "execution_count": 4,
   "metadata": {
    "collapsed": false
   },
   "outputs": [
    {
     "name": "stdout",
     "output_type": "stream",
     "text": [
      "False\n",
      "False\n",
      "True\n",
      "True\n",
      "(49826, 1)\n",
      "(49826,)\n"
     ]
    }
   ],
   "source": [
    "X = np.array(data[[\"T(C)\", \"IrrPOA(W/m2)\"]]).astype(np.float)\n",
    "#X = np.array(data[\"T(C)\"]).astype(np.float)\n",
    "#y = np.array(data[\"IrrPOA(W/m2)\"]).astype(np.float)\n",
    "\n",
    "#Remove nan and infinite values\n",
    "masknan = ~np.any(np.isnan(X), axis=1)\n",
    "X = X[masknan]\n",
    "maskfin = np.any(np.isfinite(X), axis=1)\n",
    "X = X[maskfin]\n",
    "y=X[:,1]\n",
    "X=X[:,0]\n",
    "\n",
    "#X = np.reshape(X[0:7000], (7000,1))\n",
    "#y = np.reshape(y[0:7000], (7000,))\n",
    "\n",
    "X = np.reshape(X,(len(X),1))\n",
    "\n",
    "print(np.any(np.isnan(X)))\n",
    "print(np.any(np.isnan(y)))\n",
    "\n",
    "print(np.all(np.isfinite(X)))\n",
    "print(np.all(np.isfinite(y)))\n",
    "\n",
    "print(np.shape(X))\n",
    "print(np.shape(y))"
   ]
  },
  {
   "cell_type": "code",
   "execution_count": null,
   "metadata": {
    "collapsed": false
   },
   "outputs": [],
   "source": [
    "#svr_lin = SVR(kernel='linear')\n",
    "#svr_lin.fit(X, y)\n",
    "#y_lin = svr_lin.predict(X)\n",
    "\n",
    "#svr_rbf = SVR(kernel='rbf')\n",
    "#svr_rbf.fit(X, y)\n",
    "#y_rbf = svr_rbf.predict(X)\n",
    "\n",
    "svr_poly = SVR(kernel='poly')\n",
    "svr_poly.fit(X, y)\n",
    "y_poly = svr_poly.predict(X)\n",
    "\n",
    "# look at the results\n",
    "plt.scatter(X, y, c='k', label='data')\n",
    "plt.hold('on')\n",
    "#plt.plot(X, y_lin, c='r', label='Linear model')\n",
    "#plt.plot(X, y_rbf, c='g', label='RBF model')\n",
    "plt.plot(X, y_poly, c='b', label='Polynomial model')\n",
    "plt.xlabel('Temperature')\n",
    "plt.ylabel('Irradiance')\n",
    "plt.title('Support Vector Regression')\n",
    "plt.legend()\n",
    "plt.show()"
   ]
  }
 ],
 "metadata": {
  "kernelspec": {
   "display_name": "Python 3",
   "language": "python",
   "name": "python3"
  },
  "language_info": {
   "codemirror_mode": {
    "name": "ipython",
    "version": 3
   },
   "file_extension": ".py",
   "mimetype": "text/x-python",
   "name": "python",
   "nbconvert_exporter": "python",
   "pygments_lexer": "ipython3",
   "version": "3.4.3"
  }
 },
 "nbformat": 4,
 "nbformat_minor": 0
}
